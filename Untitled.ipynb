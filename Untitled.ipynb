{
 "cells": [
  {
   "cell_type": "code",
   "execution_count": 21,
   "id": "15eef89f",
   "metadata": {},
   "outputs": [
    {
     "name": "stdout",
     "output_type": "stream",
     "text": [
      "Welcome to the PyPassword Generator!\n",
      "How many letters would you like in your password?\n",
      "3\n",
      "How many symbols would you like?\n",
      "4\n",
      "How many numbers would you like?\n",
      "5\n",
      "your password is: 3+!(3Eo02%g9\n"
     ]
    }
   ],
   "source": [
    "# Random passowrd generator\n",
    "\n",
    "import random\n",
    "letters = ['a', 'b', 'c', 'd', 'e', 'f', 'g', 'h', 'i', 'j', 'k', 'l', 'm', 'n', 'o', 'p', 'q', 'r', 's', 't', 'u', 'v', 'w', 'x', 'y', 'z', 'A', 'B', 'C', 'D', 'E', 'F', 'G', 'H', 'I', 'J', 'K', 'L', 'M', 'N', 'O', 'P', 'Q', 'R', 'S', 'T', 'U', 'V', 'W', 'X', 'Y', 'Z']\n",
    "numbers = ['0', '1', '2', '3', '4', '5', '6', '7', '8', '9']\n",
    "symbols = ['!', '#', '$', '%', '&', '(', ')', '*', '+']\n",
    "\n",
    "print(\"Welcome to the Password Generator!\")\n",
    "nr_letters= int(input(\"How many letters would you like in your password?\\n\")) \n",
    "nr_symbols = int(input(f\"How many symbols would you like?\\n\"))\n",
    "nr_numbers = int(input(f\"How many numbers would you like?\\n\"))\n",
    "\n",
    "# new_password = \"\"\n",
    "# for pwd in range(1,nr_letters+1):\n",
    "#     new_pwd = random.choice(letters)\n",
    "#     new_password += new_pwd\n",
    "    \n",
    "# for pwd in range(1,nr_symbols+1):\n",
    "#     new_pwd = random.choice(symbols)\n",
    "#     new_password += new_pwd\n",
    "\n",
    "# for pwd in range(1,nr_numbers+1):\n",
    "#     new_pwd = random.choice(numbers)\n",
    "#     new_password += new_pwd\n",
    "    \n",
    "# print(new_password)\n",
    "\n",
    "new_password = []\n",
    "for pwd in range(1,nr_letters+1):\n",
    "    new_pwd = random.choice(letters)\n",
    "    new_password.append(new_pwd)\n",
    "    \n",
    "for pwd in range(1,nr_symbols+1):\n",
    "    new_pwd = random.choice(symbols)\n",
    "    new_password.append(new_pwd)\n",
    "\n",
    "for pwd in range(1,nr_numbers+1):\n",
    "    new_pwd = random.choice(numbers)\n",
    "    new_password.append(new_pwd)\n",
    "    \n",
    "random.shuffle(new_password)\n",
    "#print(mew_password)\n",
    "\n",
    "final_password =\"\"\n",
    "for new in new_password:\n",
    "    final_password += new\n",
    "print(f\"your password is: {final_password}\")"
   ]
  },
  {
   "cell_type": "code",
   "execution_count": 6,
   "id": "f792ccdd",
   "metadata": {},
   "outputs": [
    {
     "name": "stdout",
     "output_type": "stream",
     "text": [
      "Enter 0 for rock, 1 for paper and 2 for Scissors.2\n",
      "scissors\n",
      "computer chose\n",
      "scissors\n",
      "draw\n"
     ]
    }
   ],
   "source": [
    "# Rock paper scissors\n",
    "\n",
    "import random\n",
    "game = [\"rock\",\"paper\",\"scissors\"]\n",
    "\n",
    "user_choice = int(input(\"Enter 0 for rock, 1 for paper and 2 for Scissors.\"))\n",
    "if user_choice >=3 or user_choice < 0:\n",
    "    print(\"input proper value\")\n",
    "else:\n",
    "    print(game[user_choice])\n",
    "    \n",
    "computer = random.randint(0,2)\n",
    "computer_choice = game[computer]\n",
    "print(\"computer chose\")\n",
    "print(computer_choice)\n",
    "\n",
    "if user_choice == 0 and computer == 2:\n",
    "    print(\"you won\")\n",
    "elif computer == 2 and user_choice == 0:\n",
    "    print(\"you lose\")\n",
    "elif computer == user_choice:\n",
    "    print(\"draw\")\n",
    "elif computer > user_choice:\n",
    "    print(\"you lose\")\n",
    "elif user_choice > computer:\n",
    "    print(\"you win\")\n",
    "\n"
   ]
  },
  {
   "cell_type": "code",
   "execution_count": null,
   "id": "d7c26355",
   "metadata": {},
   "outputs": [
    {
     "name": "stdout",
     "output_type": "stream",
     "text": [
      "welcome to quiz game!\n",
      "If spelling is wrong then it counts mistake.\n"
     ]
    }
   ],
   "source": [
    "# QUIZ\n",
    "\n",
    "print(\"welcome to quiz game!\")\n",
    "print(\"If spelling is wrong then it counts mistake.\")\n",
    "score = 0\n",
    "question = 0\n",
    "play = input(\"do you want to play? \").lower()\n",
    "if play == \"yes\":\n",
    "    question +=1\n",
    "    quest = input(\"CPU Stands for? \").lower()\n",
    "    if quest == \"central processing unit\":\n",
    "        score += 1\n",
    "        print(\"correct! you got 1 point.\")\n",
    "    \n",
    "    else:\n",
    "        print(\"Incorrect\")\n",
    "        print(\"The correct answer is Central processing unit\")\n",
    "    \n",
    "    question +=1\n",
    "    quest =input(\"RAM Stands for? \").lower()\n",
    "    if quest == \"random access memory\":\n",
    "        score += 1\n",
    "        print(\"correct! you got 1 point.\")\n",
    "    else:\n",
    "        print(\"Incorrect\")\n",
    "        print(\"The correct answer is Random access memory\")\n",
    "    \n",
    "    question +=1\n",
    "    quest =input(\"ROM Stands for? \").lower()\n",
    "    if quest == \"read only memory\":\n",
    "        score += 1\n",
    "        print(\"correct! you got 1 point.\")\n",
    "    \n",
    "    else:\n",
    "        print(\"Incorrect\")\n",
    "        print(\"The correct answer is Read only memory\")\n",
    "        \n",
    "    question +=1\n",
    "    quest =input(\"GPU Stands for? \").lower()\n",
    "    if quest == \"graphics processing unit\":\n",
    "        score += 1\n",
    "        print(\"correct! you got 1 point.\")\n",
    "    \n",
    "    else:\n",
    "        print(\"Incorrect\")\n",
    "        print(\"The correct answer is Graphics processing unit\")  \n",
    "    \n",
    "else:\n",
    "    print(\"you are out of the game\")\n",
    "    quit()\n",
    "Perc = score*100/question\n",
    "print(\"No of question is\",question)\n",
    "print(\"your score is\",score)\n",
    "print(Perc,\"% questions are correct.\")\n"
   ]
  },
  {
   "cell_type": "code",
   "execution_count": 7,
   "id": "5820186c",
   "metadata": {},
   "outputs": [],
   "source": []
  }
 ],
 "metadata": {
  "kernelspec": {
   "display_name": "Python 3 (ipykernel)",
   "language": "python",
   "name": "python3"
  },
  "language_info": {
   "codemirror_mode": {
    "name": "ipython",
    "version": 3
   },
   "file_extension": ".py",
   "mimetype": "text/x-python",
   "name": "python",
   "nbconvert_exporter": "python",
   "pygments_lexer": "ipython3",
   "version": "3.9.13"
  }
 },
 "nbformat": 4,
 "nbformat_minor": 5
}
